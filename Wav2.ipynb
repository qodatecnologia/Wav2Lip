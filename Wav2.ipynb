{
  "nbformat": 4,
  "nbformat_minor": 0,
  "metadata": {
    "colab": {
      "name": "Wav2Lip_quick_trial.ipynb",
      "provenance": [],
      "collapsed_sections": [],
      "include_colab_link": true
    },
    "kernelspec": {
      "name": "python3",
      "display_name": "Python 3"
    },
    "accelerator": "GPU"
  },
  "cells": [
    {
      "cell_type": "markdown",
      "metadata": {
        "id": "view-in-github",
        "colab_type": "text"
      },
      "source": [
        "<a href=\"https://colab.research.google.com/github/qodatecnologia/Wav2Lip/blob/master/Wav2.ipynb\" target=\"_parent\"><img src=\"https://colab.research.google.com/assets/colab-badge.svg\" alt=\"Open In Colab\"/></a>"
      ]
    },
    {
      "cell_type": "markdown",
      "metadata": {
        "id": "vSQFs_G8caeE"
      },
      "source": [
        "# Collab preliminaries"
      ]
    },
    {
      "cell_type": "code",
      "metadata": {
        "id": "XIVB0Xn1g6ih",
        "colab": {
          "base_uri": "https://localhost:8080/"
        },
        "outputId": "3e28d040-365c-455f-d657-00f6f072f160"
      },
      "source": [
        "!nvcc --version"
      ],
      "execution_count": 14,
      "outputs": [
        {
          "output_type": "stream",
          "text": [
            "nvcc: NVIDIA (R) Cuda compiler driver\n",
            "Copyright (c) 2005-2019 NVIDIA Corporation\n",
            "Built on Sun_Jul_28_19:07:16_PDT_2019\n",
            "Cuda compilation tools, release 10.1, V10.1.243\n"
          ],
          "name": "stdout"
        }
      ]
    },
    {
      "cell_type": "code",
      "metadata": {
        "id": "qciH4PsUazL_",
        "colab": {
          "base_uri": "https://localhost:8080/"
        },
        "outputId": "04cb90ee-a976-4227-840b-6613c7c156bf"
      },
      "source": [
        "from google.colab import drive\n",
        "drive.mount('/content/gdrive')"
      ],
      "execution_count": 15,
      "outputs": [
        {
          "output_type": "stream",
          "text": [
            "Drive already mounted at /content/gdrive; to attempt to forcibly remount, call drive.mount(\"/content/gdrive\", force_remount=True).\n"
          ],
          "name": "stdout"
        }
      ]
    },
    {
      "cell_type": "code",
      "metadata": {
        "id": "A-tBi-o8FiQ3",
        "outputId": "4a75bfbd-90b8-4224-b9c3-5429267d0e37",
        "colab": {
          "base_uri": "https://localhost:8080/"
        }
      },
      "source": [
        "drive.mount(\"/content/gdrive\", force_remount=True)"
      ],
      "execution_count": 16,
      "outputs": [
        {
          "output_type": "stream",
          "text": [
            "Mounted at /content/gdrive\n"
          ],
          "name": "stdout"
        }
      ]
    },
    {
      "cell_type": "markdown",
      "metadata": {
        "id": "yJ5taGmPcWV-"
      },
      "source": [
        "# Get the code and models"
      ]
    },
    {
      "cell_type": "code",
      "metadata": {
        "id": "P3LihClHbUd3",
        "colab": {
          "base_uri": "https://localhost:8080/"
        },
        "outputId": "e1098f8e-b8f5-4ced-e9eb-9c5eba98f033"
      },
      "source": [
        "!git clone https://github.com/Rudrabha/Wav2Lip.git"
      ],
      "execution_count": 17,
      "outputs": [
        {
          "output_type": "stream",
          "text": [
            "fatal: destination path 'Wav2Lip' already exists and is not an empty directory.\n"
          ],
          "name": "stdout"
        }
      ]
    },
    {
      "cell_type": "code",
      "metadata": {
        "id": "y-19nzx8SamJ",
        "colab": {
          "base_uri": "https://localhost:8080/"
        },
        "outputId": "2093c9dd-80e8-496a-a7aa-0fb4efd8e334"
      },
      "source": [
        "!ls"
      ],
      "execution_count": 18,
      "outputs": [
        {
          "output_type": "stream",
          "text": [
            "gdrive\tsample_data  Wav2Lip\n"
          ],
          "name": "stdout"
        }
      ]
    },
    {
      "cell_type": "code",
      "metadata": {
        "id": "YjzMPy_Sb0AI",
        "colab": {
          "base_uri": "https://localhost:8080/"
        },
        "outputId": "f8de70c9-ca21-404f-e364-7dc5a0e61d16"
      },
      "source": [
        "!cp -ri \"/content/gdrive/My Drive/AUDIO2VIDEO/Wav2lip/wav2lip_gan.pth\" /content/Wav2Lip/checkpoints/"
      ],
      "execution_count": 19,
      "outputs": [
        {
          "output_type": "stream",
          "text": [
            "cp: overwrite '/content/Wav2Lip/checkpoints/wav2lip_gan.pth'? y\n"
          ],
          "name": "stdout"
        }
      ]
    },
    {
      "cell_type": "markdown",
      "metadata": {
        "id": "aWTaOS3ncFt6"
      },
      "source": [
        "# Get the pre-requisites"
      ]
    },
    {
      "cell_type": "code",
      "metadata": {
        "id": "Ooh28vw-Uvd3",
        "colab": {
          "base_uri": "https://localhost:8080/"
        },
        "outputId": "a6f272c4-9b89-4032-a947-f29f41a69840"
      },
      "source": [
        "!pip uninstall tensorflow tensorflow-gpu"
      ],
      "execution_count": 20,
      "outputs": [
        {
          "output_type": "stream",
          "text": [
            "Uninstalling tensorflow-1.12.0:\n",
            "  Would remove:\n",
            "    /usr/local/bin/freeze_graph\n",
            "    /usr/local/bin/saved_model_cli\n",
            "    /usr/local/bin/tensorboard\n",
            "    /usr/local/bin/tflite_convert\n",
            "    /usr/local/bin/toco\n",
            "    /usr/local/bin/toco_from_protos\n",
            "    /usr/local/lib/python3.6/dist-packages/tensorflow-1.12.0.dist-info/*\n",
            "    /usr/local/lib/python3.6/dist-packages/tensorflow/*\n",
            "Proceed (y/n)? y\n",
            "  Successfully uninstalled tensorflow-1.12.0\n",
            "\u001b[33mWARNING: Skipping tensorflow-gpu as it is not installed.\u001b[0m\n"
          ],
          "name": "stdout"
        }
      ]
    },
    {
      "cell_type": "code",
      "metadata": {
        "id": "49dCYlLdcK2D",
        "colab": {
          "base_uri": "https://localhost:8080/"
        },
        "outputId": "8ab5755d-337b-4db7-e188-0f82954cc29b"
      },
      "source": [
        "!cd Wav2Lip && pip install -r requirements.txt"
      ],
      "execution_count": 21,
      "outputs": [
        {
          "output_type": "stream",
          "text": [
            "Requirement already satisfied: librosa==0.7.0 in /usr/local/lib/python3.6/dist-packages (from -r requirements.txt (line 1)) (0.7.0)\n",
            "Requirement already satisfied: numpy==1.17.1 in /usr/local/lib/python3.6/dist-packages (from -r requirements.txt (line 2)) (1.17.1)\n",
            "Requirement already satisfied: opencv-contrib-python>=4.2.0.34 in /usr/local/lib/python3.6/dist-packages (from -r requirements.txt (line 3)) (4.4.0.46)\n",
            "Requirement already satisfied: opencv-python==4.1.0.25 in /usr/local/lib/python3.6/dist-packages (from -r requirements.txt (line 4)) (4.1.0.25)\n",
            "Collecting tensorflow==1.12.0\n",
            "  Using cached https://files.pythonhosted.org/packages/22/cc/ca70b78087015d21c5f3f93694107f34ebccb3be9624385a911d4b52ecef/tensorflow-1.12.0-cp36-cp36m-manylinux1_x86_64.whl\n",
            "Requirement already satisfied: torch==1.1.0 in /usr/local/lib/python3.6/dist-packages (from -r requirements.txt (line 6)) (1.1.0)\n",
            "Requirement already satisfied: torchvision==0.3.0 in /usr/local/lib/python3.6/dist-packages (from -r requirements.txt (line 7)) (0.3.0)\n",
            "Requirement already satisfied: tqdm==4.45.0 in /usr/local/lib/python3.6/dist-packages (from -r requirements.txt (line 8)) (4.45.0)\n",
            "Requirement already satisfied: numba==0.48 in /usr/local/lib/python3.6/dist-packages (from -r requirements.txt (line 9)) (0.48.0)\n",
            "Requirement already satisfied: scipy>=1.0.0 in /usr/local/lib/python3.6/dist-packages (from librosa==0.7.0->-r requirements.txt (line 1)) (1.4.1)\n",
            "Requirement already satisfied: soundfile>=0.9.0 in /usr/local/lib/python3.6/dist-packages (from librosa==0.7.0->-r requirements.txt (line 1)) (0.10.3.post1)\n",
            "Requirement already satisfied: decorator>=3.0.0 in /usr/local/lib/python3.6/dist-packages (from librosa==0.7.0->-r requirements.txt (line 1)) (4.4.2)\n",
            "Requirement already satisfied: six>=1.3 in /usr/local/lib/python3.6/dist-packages (from librosa==0.7.0->-r requirements.txt (line 1)) (1.15.0)\n",
            "Requirement already satisfied: scikit-learn!=0.19.0,>=0.14.0 in /usr/local/lib/python3.6/dist-packages (from librosa==0.7.0->-r requirements.txt (line 1)) (0.22.2.post1)\n",
            "Requirement already satisfied: resampy>=0.2.0 in /usr/local/lib/python3.6/dist-packages (from librosa==0.7.0->-r requirements.txt (line 1)) (0.2.2)\n",
            "Requirement already satisfied: audioread>=2.0.0 in /usr/local/lib/python3.6/dist-packages (from librosa==0.7.0->-r requirements.txt (line 1)) (2.1.9)\n",
            "Requirement already satisfied: joblib>=0.12 in /usr/local/lib/python3.6/dist-packages (from librosa==0.7.0->-r requirements.txt (line 1)) (0.17.0)\n",
            "Requirement already satisfied: wheel>=0.26 in /usr/local/lib/python3.6/dist-packages (from tensorflow==1.12.0->-r requirements.txt (line 5)) (0.35.1)\n",
            "Requirement already satisfied: tensorboard<1.13.0,>=1.12.0 in /usr/local/lib/python3.6/dist-packages (from tensorflow==1.12.0->-r requirements.txt (line 5)) (1.12.2)\n",
            "Requirement already satisfied: protobuf>=3.6.1 in /usr/local/lib/python3.6/dist-packages (from tensorflow==1.12.0->-r requirements.txt (line 5)) (3.12.4)\n",
            "Requirement already satisfied: gast>=0.2.0 in /usr/local/lib/python3.6/dist-packages (from tensorflow==1.12.0->-r requirements.txt (line 5)) (0.3.3)\n",
            "Requirement already satisfied: absl-py>=0.1.6 in /usr/local/lib/python3.6/dist-packages (from tensorflow==1.12.0->-r requirements.txt (line 5)) (0.10.0)\n",
            "Requirement already satisfied: keras-preprocessing>=1.0.5 in /usr/local/lib/python3.6/dist-packages (from tensorflow==1.12.0->-r requirements.txt (line 5)) (1.1.2)\n",
            "Requirement already satisfied: termcolor>=1.1.0 in /usr/local/lib/python3.6/dist-packages (from tensorflow==1.12.0->-r requirements.txt (line 5)) (1.1.0)\n",
            "Requirement already satisfied: astor>=0.6.0 in /usr/local/lib/python3.6/dist-packages (from tensorflow==1.12.0->-r requirements.txt (line 5)) (0.8.1)\n",
            "Requirement already satisfied: grpcio>=1.8.6 in /usr/local/lib/python3.6/dist-packages (from tensorflow==1.12.0->-r requirements.txt (line 5)) (1.33.2)\n",
            "Requirement already satisfied: keras-applications>=1.0.6 in /usr/local/lib/python3.6/dist-packages (from tensorflow==1.12.0->-r requirements.txt (line 5)) (1.0.8)\n",
            "Requirement already satisfied: pillow>=4.1.1 in /usr/local/lib/python3.6/dist-packages (from torchvision==0.3.0->-r requirements.txt (line 7)) (7.0.0)\n",
            "Requirement already satisfied: setuptools in /usr/local/lib/python3.6/dist-packages (from numba==0.48->-r requirements.txt (line 9)) (50.3.2)\n",
            "Requirement already satisfied: llvmlite<0.32.0,>=0.31.0dev0 in /usr/local/lib/python3.6/dist-packages (from numba==0.48->-r requirements.txt (line 9)) (0.31.0)\n",
            "Requirement already satisfied: cffi>=1.0 in /usr/local/lib/python3.6/dist-packages (from soundfile>=0.9.0->librosa==0.7.0->-r requirements.txt (line 1)) (1.14.3)\n",
            "Requirement already satisfied: werkzeug>=0.11.10 in /usr/local/lib/python3.6/dist-packages (from tensorboard<1.13.0,>=1.12.0->tensorflow==1.12.0->-r requirements.txt (line 5)) (1.0.1)\n",
            "Requirement already satisfied: markdown>=2.6.8 in /usr/local/lib/python3.6/dist-packages (from tensorboard<1.13.0,>=1.12.0->tensorflow==1.12.0->-r requirements.txt (line 5)) (3.3.3)\n",
            "Requirement already satisfied: h5py in /usr/local/lib/python3.6/dist-packages (from keras-applications>=1.0.6->tensorflow==1.12.0->-r requirements.txt (line 5)) (2.10.0)\n",
            "Requirement already satisfied: pycparser in /usr/local/lib/python3.6/dist-packages (from cffi>=1.0->soundfile>=0.9.0->librosa==0.7.0->-r requirements.txt (line 1)) (2.20)\n",
            "Requirement already satisfied: importlib-metadata; python_version < \"3.8\" in /usr/local/lib/python3.6/dist-packages (from markdown>=2.6.8->tensorboard<1.13.0,>=1.12.0->tensorflow==1.12.0->-r requirements.txt (line 5)) (2.0.0)\n",
            "Requirement already satisfied: zipp>=0.5 in /usr/local/lib/python3.6/dist-packages (from importlib-metadata; python_version < \"3.8\"->markdown>=2.6.8->tensorboard<1.13.0,>=1.12.0->tensorflow==1.12.0->-r requirements.txt (line 5)) (3.4.0)\n",
            "Installing collected packages: tensorflow\n",
            "Successfully installed tensorflow-1.12.0\n"
          ],
          "name": "stdout"
        }
      ]
    },
    {
      "cell_type": "code",
      "metadata": {
        "id": "ey_bN4M6X_95",
        "colab": {
          "base_uri": "https://localhost:8080/"
        },
        "outputId": "d7c5eb26-54fc-47f4-e61b-eb4580850820"
      },
      "source": [
        "!wget \"https://www.adrianbulat.com/downloads/python-fan/s3fd-619a316812.pth\" -O \"Wav2Lip/face_detection/detection/sfd/s3fd.pth\""
      ],
      "execution_count": 22,
      "outputs": [
        {
          "output_type": "stream",
          "text": [
            "--2020-12-03 15:12:35--  https://www.adrianbulat.com/downloads/python-fan/s3fd-619a316812.pth\n",
            "Resolving www.adrianbulat.com (www.adrianbulat.com)... 45.136.29.207\n",
            "Connecting to www.adrianbulat.com (www.adrianbulat.com)|45.136.29.207|:443... connected.\n",
            "HTTP request sent, awaiting response... 200 OK\n",
            "Length: 89843225 (86M) [application/octet-stream]\n",
            "Saving to: ‘Wav2Lip/face_detection/detection/sfd/s3fd.pth’\n",
            "\n",
            "Wav2Lip/face_detect 100%[===================>]  85.68M  13.5MB/s    in 7.3s    \n",
            "\n",
            "2020-12-03 15:12:43 (11.7 MB/s) - ‘Wav2Lip/face_detection/detection/sfd/s3fd.pth’ saved [89843225/89843225]\n",
            "\n"
          ],
          "name": "stdout"
        }
      ]
    },
    {
      "cell_type": "markdown",
      "metadata": {
        "id": "qdIQfY2Kswcb"
      },
      "source": [
        "# Now lets try!"
      ]
    },
    {
      "cell_type": "code",
      "metadata": {
        "id": "KoVGMtjRZfeR",
        "colab": {
          "base_uri": "https://localhost:8080/"
        },
        "outputId": "c6c191d0-746c-41ab-e8f4-588a627861a7"
      },
      "source": [
        "!cp \"/content/gdrive/My Drive/AUDIO2VIDEO/Wav2Lip/kennedy1min.mp4\" \"/content/gdrive/My Drive/AUDIO2VIDEO/Wav2Lip/anderson.wav\" sample_data/\n",
        "!ls sample_data/"
      ],
      "execution_count": 23,
      "outputs": [
        {
          "output_type": "stream",
          "text": [
            "ana.wav\t\t\t     california_housing_train.csv  README.md\n",
            "anderson.wav\t\t     kennedy1min.mp4\t\t   video-convite.mp4\n",
            "anscombe.json\t\t     mnist_test.csv\n",
            "california_housing_test.csv  mnist_train_small.csv\n"
          ],
          "name": "stdout"
        }
      ]
    },
    {
      "cell_type": "code",
      "metadata": {
        "id": "jR5utmDMcSZY",
        "colab": {
          "base_uri": "https://localhost:8080/"
        },
        "outputId": "08161d82-1bf9-415d-c672-4ac073295677"
      },
      "source": [
        "!cd Wav2Lip && python inference.py --checkpoint_path checkpoints/wav2lip_gan.pth --face \"../sample_data/kennedy1min.mp4\" --audio \"../sample_data/anderson.wav\""
      ],
      "execution_count": 24,
      "outputs": [
        {
          "output_type": "stream",
          "text": [
            "/usr/local/lib/python3.6/dist-packages/tensorflow/python/framework/dtypes.py:523: FutureWarning: Passing (type, 1) or '1type' as a synonym of type is deprecated; in a future version of numpy, it will be understood as (type, (1,)) / '(1,)type'.\n",
            "  _np_qint8 = np.dtype([(\"qint8\", np.int8, 1)])\n",
            "/usr/local/lib/python3.6/dist-packages/tensorflow/python/framework/dtypes.py:524: FutureWarning: Passing (type, 1) or '1type' as a synonym of type is deprecated; in a future version of numpy, it will be understood as (type, (1,)) / '(1,)type'.\n",
            "  _np_quint8 = np.dtype([(\"quint8\", np.uint8, 1)])\n",
            "/usr/local/lib/python3.6/dist-packages/tensorflow/python/framework/dtypes.py:525: FutureWarning: Passing (type, 1) or '1type' as a synonym of type is deprecated; in a future version of numpy, it will be understood as (type, (1,)) / '(1,)type'.\n",
            "  _np_qint16 = np.dtype([(\"qint16\", np.int16, 1)])\n",
            "/usr/local/lib/python3.6/dist-packages/tensorflow/python/framework/dtypes.py:526: FutureWarning: Passing (type, 1) or '1type' as a synonym of type is deprecated; in a future version of numpy, it will be understood as (type, (1,)) / '(1,)type'.\n",
            "  _np_quint16 = np.dtype([(\"quint16\", np.uint16, 1)])\n",
            "/usr/local/lib/python3.6/dist-packages/tensorflow/python/framework/dtypes.py:527: FutureWarning: Passing (type, 1) or '1type' as a synonym of type is deprecated; in a future version of numpy, it will be understood as (type, (1,)) / '(1,)type'.\n",
            "  _np_qint32 = np.dtype([(\"qint32\", np.int32, 1)])\n",
            "/usr/local/lib/python3.6/dist-packages/tensorflow/python/framework/dtypes.py:532: FutureWarning: Passing (type, 1) or '1type' as a synonym of type is deprecated; in a future version of numpy, it will be understood as (type, (1,)) / '(1,)type'.\n",
            "  np_resource = np.dtype([(\"resource\", np.ubyte, 1)])\n",
            "Using cuda for inference.\n",
            "Reading video frames...\n",
            "Number of frames available for inference: 2398\n",
            "(80, 1504)\n",
            "Length of mel chunks: 559\n",
            "  0% 0/5 [00:00<?, ?it/s]\n",
            "  0% 0/35 [00:00<?, ?it/s]\u001b[ATHCudaCheck FAIL file=/pytorch/aten/src/THC/THCGeneral.cpp line=383 error=11 : invalid argument\n",
            "  0% 0/35 [00:00<?, ?it/s]\n",
            "Recovering from OOM error; New batch size: 8\n",
            "\n",
            "  0% 0/70 [00:00<?, ?it/s]\u001b[A\n",
            "  1% 1/70 [00:03<04:00,  3.49s/it]\u001b[A\n",
            "  3% 2/70 [00:03<02:53,  2.56s/it]\u001b[A\n",
            "  4% 3/70 [00:04<02:07,  1.90s/it]\u001b[A\n",
            "  6% 4/70 [00:04<01:35,  1.45s/it]\u001b[A\n",
            "  7% 5/70 [00:05<01:13,  1.13s/it]\u001b[A\n",
            "  9% 6/70 [00:05<00:57,  1.10it/s]\u001b[A\n",
            " 10% 7/70 [00:05<00:47,  1.34it/s]\u001b[A\n",
            " 11% 8/70 [00:06<00:39,  1.57it/s]\u001b[A\n",
            " 13% 9/70 [00:06<00:33,  1.80it/s]\u001b[A\n",
            " 14% 10/70 [00:06<00:30,  2.00it/s]\u001b[A\n",
            " 16% 11/70 [00:07<00:27,  2.16it/s]\u001b[A\n",
            " 17% 12/70 [00:07<00:25,  2.28it/s]\u001b[A\n",
            " 19% 13/70 [00:08<00:23,  2.39it/s]\u001b[A\n",
            " 20% 14/70 [00:08<00:22,  2.46it/s]\u001b[A\n",
            " 21% 15/70 [00:08<00:22,  2.49it/s]\u001b[A\n",
            " 23% 16/70 [00:09<00:21,  2.53it/s]\u001b[A\n",
            " 24% 17/70 [00:09<00:20,  2.54it/s]\u001b[A\n",
            " 26% 18/70 [00:09<00:20,  2.55it/s]\u001b[A\n",
            " 27% 19/70 [00:10<00:19,  2.57it/s]\u001b[A\n",
            " 29% 20/70 [00:10<00:19,  2.61it/s]\u001b[A\n",
            " 30% 21/70 [00:11<00:18,  2.62it/s]\u001b[A\n",
            " 31% 22/70 [00:11<00:18,  2.64it/s]\u001b[A\n",
            " 33% 23/70 [00:11<00:17,  2.65it/s]\u001b[A\n",
            " 34% 24/70 [00:12<00:17,  2.65it/s]\u001b[A\n",
            " 36% 25/70 [00:12<00:16,  2.65it/s]\u001b[A\n",
            " 37% 26/70 [00:12<00:16,  2.64it/s]\u001b[A\n",
            " 39% 27/70 [00:13<00:16,  2.63it/s]\u001b[A\n",
            " 40% 28/70 [00:13<00:16,  2.62it/s]\u001b[A\n",
            " 41% 29/70 [00:14<00:15,  2.60it/s]\u001b[A\n",
            " 43% 30/70 [00:14<00:15,  2.57it/s]\u001b[A\n",
            " 44% 31/70 [00:14<00:15,  2.56it/s]\u001b[A\n",
            " 46% 32/70 [00:15<00:14,  2.59it/s]\u001b[A\n",
            " 47% 33/70 [00:15<00:14,  2.60it/s]\u001b[A\n",
            " 49% 34/70 [00:16<00:13,  2.62it/s]\u001b[A\n",
            " 50% 35/70 [00:16<00:13,  2.63it/s]\u001b[A\n",
            " 51% 36/70 [00:16<00:12,  2.63it/s]\u001b[A\n",
            " 53% 37/70 [00:17<00:12,  2.63it/s]\u001b[A\n",
            " 54% 38/70 [00:17<00:12,  2.64it/s]\u001b[A\n",
            " 56% 39/70 [00:17<00:11,  2.66it/s]\u001b[A\n",
            " 57% 40/70 [00:18<00:11,  2.65it/s]\u001b[A\n",
            " 59% 41/70 [00:18<00:10,  2.65it/s]\u001b[A\n",
            " 60% 42/70 [00:19<00:10,  2.63it/s]\u001b[A\n",
            " 61% 43/70 [00:19<00:10,  2.64it/s]\u001b[A\n",
            " 63% 44/70 [00:19<00:09,  2.65it/s]\u001b[A\n",
            " 64% 45/70 [00:20<00:09,  2.63it/s]\u001b[A\n",
            " 66% 46/70 [00:20<00:09,  2.61it/s]\u001b[A\n",
            " 67% 47/70 [00:20<00:08,  2.60it/s]\u001b[A\n",
            " 69% 48/70 [00:21<00:08,  2.63it/s]\u001b[A\n",
            " 70% 49/70 [00:21<00:07,  2.65it/s]\u001b[A\n",
            " 71% 50/70 [00:22<00:07,  2.65it/s]\u001b[A\n",
            " 73% 51/70 [00:22<00:07,  2.63it/s]\u001b[A\n",
            " 74% 52/70 [00:22<00:06,  2.62it/s]\u001b[A\n",
            " 76% 53/70 [00:23<00:06,  2.63it/s]\u001b[A\n",
            " 77% 54/70 [00:23<00:06,  2.64it/s]\u001b[A\n",
            " 79% 55/70 [00:24<00:05,  2.61it/s]\u001b[A\n",
            " 80% 56/70 [00:24<00:05,  2.58it/s]\u001b[A\n",
            " 81% 57/70 [00:24<00:05,  2.56it/s]\u001b[A\n",
            " 83% 58/70 [00:25<00:04,  2.57it/s]\u001b[A\n",
            " 84% 59/70 [00:25<00:04,  2.61it/s]\u001b[A\n",
            " 86% 60/70 [00:25<00:03,  2.63it/s]\u001b[A\n",
            " 87% 61/70 [00:26<00:03,  2.63it/s]\u001b[A\n",
            " 89% 62/70 [00:26<00:03,  2.64it/s]\u001b[A\n",
            " 90% 63/70 [00:27<00:02,  2.65it/s]\u001b[A\n",
            " 91% 64/70 [00:27<00:02,  2.63it/s]\u001b[A\n",
            " 93% 65/70 [00:27<00:01,  2.62it/s]\u001b[A\n",
            " 94% 66/70 [00:28<00:01,  2.62it/s]\u001b[A\n",
            " 96% 67/70 [00:28<00:01,  2.63it/s]\u001b[A\n",
            " 97% 68/70 [00:28<00:00,  2.64it/s]\u001b[A\n",
            " 99% 69/70 [00:29<00:00,  2.64it/s]\u001b[A\n",
            "100% 70/70 [00:32<00:00,  2.15it/s]\n",
            "Load checkpoint from: checkpoints/wav2lip_gan.pth\n",
            "Model loaded\n",
            "100% 5/5 [00:42<00:00,  8.59s/it]\n",
            "ffmpeg version 3.4.8-0ubuntu0.2 Copyright (c) 2000-2020 the FFmpeg developers\n",
            "  built with gcc 7 (Ubuntu 7.5.0-3ubuntu1~18.04)\n",
            "  configuration: --prefix=/usr --extra-version=0ubuntu0.2 --toolchain=hardened --libdir=/usr/lib/x86_64-linux-gnu --incdir=/usr/include/x86_64-linux-gnu --enable-gpl --disable-stripping --enable-avresample --enable-avisynth --enable-gnutls --enable-ladspa --enable-libass --enable-libbluray --enable-libbs2b --enable-libcaca --enable-libcdio --enable-libflite --enable-libfontconfig --enable-libfreetype --enable-libfribidi --enable-libgme --enable-libgsm --enable-libmp3lame --enable-libmysofa --enable-libopenjpeg --enable-libopenmpt --enable-libopus --enable-libpulse --enable-librubberband --enable-librsvg --enable-libshine --enable-libsnappy --enable-libsoxr --enable-libspeex --enable-libssh --enable-libtheora --enable-libtwolame --enable-libvorbis --enable-libvpx --enable-libwavpack --enable-libwebp --enable-libx265 --enable-libxml2 --enable-libxvid --enable-libzmq --enable-libzvbi --enable-omx --enable-openal --enable-opengl --enable-sdl2 --enable-libdc1394 --enable-libdrm --enable-libiec61883 --enable-chromaprint --enable-frei0r --enable-libopencv --enable-libx264 --enable-shared\n",
            "  libavutil      55. 78.100 / 55. 78.100\n",
            "  libavcodec     57.107.100 / 57.107.100\n",
            "  libavformat    57. 83.100 / 57. 83.100\n",
            "  libavdevice    57. 10.100 / 57. 10.100\n",
            "  libavfilter     6.107.100 /  6.107.100\n",
            "  libavresample   3.  7.  0 /  3.  7.  0\n",
            "  libswscale      4.  8.100 /  4.  8.100\n",
            "  libswresample   2.  9.100 /  2.  9.100\n",
            "  libpostproc    54.  7.100 / 54.  7.100\n",
            "\u001b[0;33mGuessed Channel Layout for Input Stream #0.0 : stereo\n",
            "\u001b[0mInput #0, wav, from '../sample_data/anderson.wav':\n",
            "  Metadata:\n",
            "    date            : 2020\n",
            "    title           : Gravação\n",
            "    encoder         : Lavf58.29.100\n",
            "  Duration: 00:00:18.79, bitrate: 1536 kb/s\n",
            "    Stream #0:0: Audio: pcm_s16le ([1][0][0][0] / 0x0001), 48000 Hz, stereo, s16, 1536 kb/s\n",
            "Input #1, avi, from 'temp/result.avi':\n",
            "  Metadata:\n",
            "    encoder         : Lavf58.26.101\n",
            "  Duration: 00:00:18.65, start: 0.000000, bitrate: 1419 kb/s\n",
            "    Stream #1:0: Video: mpeg4 (Simple Profile) (DIVX / 0x58564944), yuv420p, 640x480 [SAR 1:1 DAR 4:3], 1413 kb/s, 29.97 fps, 29.97 tbr, 29.97 tbn, 2997 tbc\n",
            "Stream mapping:\n",
            "  Stream #1:0 -> #0:0 (mpeg4 (native) -> h264 (libx264))\n",
            "  Stream #0:0 -> #0:1 (pcm_s16le (native) -> aac (native))\n",
            "Press [q] to stop, [?] for help\n",
            "\u001b[1;36m[libx264 @ 0x55f65119de00] \u001b[0m\u001b[0;33m-qscale is ignored, -crf is recommended.\n",
            "\u001b[0m\u001b[1;36m[libx264 @ 0x55f65119de00] \u001b[0musing SAR=1/1\n",
            "\u001b[1;36m[libx264 @ 0x55f65119de00] \u001b[0musing cpu capabilities: MMX2 SSE2Fast SSSE3 SSE4.2 AVX FMA3 BMI2 AVX2\n",
            "\u001b[1;36m[libx264 @ 0x55f65119de00] \u001b[0mprofile High, level 3.0\n",
            "\u001b[1;36m[libx264 @ 0x55f65119de00] \u001b[0m264 - core 152 r2854 e9a5903 - H.264/MPEG-4 AVC codec - Copyleft 2003-2017 - http://www.videolan.org/x264.html - options: cabac=1 ref=3 deblock=1:0:0 analyse=0x3:0x113 me=hex subme=7 psy=1 psy_rd=1.00:0.00 mixed_ref=1 me_range=16 chroma_me=1 trellis=1 8x8dct=1 cqm=0 deadzone=21,11 fast_pskip=1 chroma_qp_offset=-2 threads=3 lookahead_threads=1 sliced_threads=0 nr=0 decimate=1 interlaced=0 bluray_compat=0 constrained_intra=0 bframes=3 b_pyramid=2 b_adapt=1 b_bias=0 direct=1 weightb=1 open_gop=0 weightp=2 keyint=250 keyint_min=25 scenecut=40 intra_refresh=0 rc_lookahead=40 rc=crf mbtree=1 crf=23.0 qcomp=0.60 qpmin=0 qpmax=69 qpstep=4 ip_ratio=1.40 aq=1:1.00\n",
            "Output #0, mp4, to 'results/result_voice.mp4':\n",
            "  Metadata:\n",
            "    date            : 2020\n",
            "    title           : Gravação\n",
            "    encoder         : Lavf57.83.100\n",
            "    Stream #0:0: Video: h264 (libx264) (avc1 / 0x31637661), yuv420p(progressive), 640x480 [SAR 1:1 DAR 4:3], q=-1--1, 29.97 fps, 30k tbn, 29.97 tbc\n",
            "    Metadata:\n",
            "      encoder         : Lavc57.107.100 libx264\n",
            "    Side data:\n",
            "      cpb: bitrate max/min/avg: 0/0/0 buffer size: 0 vbv_delay: -1\n",
            "    Stream #0:1: Audio: aac (LC) (mp4a / 0x6134706D), 48000 Hz, stereo, fltp, 128 kb/s\n",
            "    Metadata:\n",
            "      encoder         : Lavc57.107.100 aac\n",
            "frame=  559 fps= 56 q=-1.0 Lsize=    2167kB time=00:00:18.79 bitrate= 944.3kbits/s speed=1.89x    \n",
            "video:1852kB audio:296kB subtitle:0kB other streams:0kB global headers:0kB muxing overhead: 0.860602%\n",
            "\u001b[1;36m[libx264 @ 0x55f65119de00] \u001b[0mframe I:3     Avg QP:22.07  size: 11272\n",
            "\u001b[1;36m[libx264 @ 0x55f65119de00] \u001b[0mframe P:476   Avg QP:24.31  size:  3650\n",
            "\u001b[1;36m[libx264 @ 0x55f65119de00] \u001b[0mframe B:80    Avg QP:27.06  size:  1558\n",
            "\u001b[1;36m[libx264 @ 0x55f65119de00] \u001b[0mconsecutive B-frames: 75.5% 13.2%  9.1%  2.1%\n",
            "\u001b[1;36m[libx264 @ 0x55f65119de00] \u001b[0mmb I  I16..4: 13.4% 80.9%  5.7%\n",
            "\u001b[1;36m[libx264 @ 0x55f65119de00] \u001b[0mmb P  I16..4:  1.4%  9.2%  0.1%  P16..4: 55.6%  8.3%  2.5%  0.0%  0.0%    skip:23.0%\n",
            "\u001b[1;36m[libx264 @ 0x55f65119de00] \u001b[0mmb B  I16..4:  0.4%  2.9%  0.0%  B16..8: 42.8%  2.6%  0.2%  direct: 0.7%  skip:50.3%  L0:62.5% L1:34.5% BI: 2.9%\n",
            "\u001b[1;36m[libx264 @ 0x55f65119de00] \u001b[0m8x8 transform intra:86.3% inter:87.8%\n",
            "\u001b[1;36m[libx264 @ 0x55f65119de00] \u001b[0mcoded y,uvDC,uvAC intra: 70.9% 16.7% 0.0% inter: 18.6% 2.0% 0.0%\n",
            "\u001b[1;36m[libx264 @ 0x55f65119de00] \u001b[0mi16 v,h,dc,p: 17% 31% 14% 37%\n",
            "\u001b[1;36m[libx264 @ 0x55f65119de00] \u001b[0mi8 v,h,dc,ddl,ddr,vr,hd,vl,hu: 21% 23% 40%  3%  2%  3%  2%  3%  3%\n",
            "\u001b[1;36m[libx264 @ 0x55f65119de00] \u001b[0mi4 v,h,dc,ddl,ddr,vr,hd,vl,hu: 33% 17% 18%  5%  6%  6%  6%  5%  3%\n",
            "\u001b[1;36m[libx264 @ 0x55f65119de00] \u001b[0mi8c dc,h,v,p: 73% 14% 13%  0%\n",
            "\u001b[1;36m[libx264 @ 0x55f65119de00] \u001b[0mWeighted P-Frames: Y:2.1% UV:0.0%\n",
            "\u001b[1;36m[libx264 @ 0x55f65119de00] \u001b[0mref P L0: 74.4% 11.6% 10.6%  3.2%  0.2%\n",
            "\u001b[1;36m[libx264 @ 0x55f65119de00] \u001b[0mref B L0: 83.3% 14.5%  2.2%\n",
            "\u001b[1;36m[libx264 @ 0x55f65119de00] \u001b[0mref B L1: 99.4%  0.6%\n",
            "\u001b[1;36m[libx264 @ 0x55f65119de00] \u001b[0mkb/s:813.22\n",
            "\u001b[1;36m[aac @ 0x55f65124a000] \u001b[0mQavg: 458.964\n"
          ],
          "name": "stdout"
        }
      ]
    },
    {
      "cell_type": "code",
      "metadata": {
        "id": "uNOAZvkszEOw"
      },
      "source": [
        "# use the \"files\" button on the left to download the result in the Wav2Lip/results/ folder."
      ],
      "execution_count": null,
      "outputs": []
    },
    {
      "cell_type": "markdown",
      "metadata": {
        "id": "d7zgfrQqbKom"
      },
      "source": [
        "## **Variations to try**\n"
      ]
    },
    {
      "cell_type": "markdown",
      "metadata": {
        "id": "0f9A9VDVbZAG"
      },
      "source": [
        "1.   Use more padding to include the chin region"
      ]
    },
    {
      "cell_type": "code",
      "metadata": {
        "id": "45XW4SZAzIz5"
      },
      "source": [
        "!cd Wav2Lip && python inference.py --checkpoint_path checkpoints/wav2lip_gan.pth --face \"../sample_data/input_vid.mp4\" --audio \"../sample_data/input_audio.wav\" --pads 0 20 0 0"
      ],
      "execution_count": null,
      "outputs": []
    },
    {
      "cell_type": "markdown",
      "metadata": {
        "id": "uo-WnsxfbwTG"
      },
      "source": [
        "2.   Use resize_factor to reduce the video resolution, as there is a change you might get better results for lower resolution videos. Why? Because the model was trained on low resolution faces."
      ]
    },
    {
      "cell_type": "code",
      "metadata": {
        "id": "xw0xFtZ2bsx8"
      },
      "source": [
        "!cd Wav2Lip && python inference.py --checkpoint_path checkpoints/wav2lip_gan.pth --face \"../sample_data/input_vid.mp4\" --audio \"../sample_data/input_audio.wav\" --resize_factor 2"
      ],
      "execution_count": null,
      "outputs": []
    }
  ]
}